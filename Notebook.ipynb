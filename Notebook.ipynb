{
 "cells": [
  {
   "cell_type": "code",
   "execution_count": 2,
   "id": "e885e67d",
   "metadata": {},
   "outputs": [
    {
     "name": "stdout",
     "output_type": "stream",
     "text": [
      "Training Data count: 662\n"
     ]
    }
   ],
   "source": [
    "import os\n",
    "\n",
    "\n",
    "dir_path = r'multicoil_values/multicoil_train'\n",
    "count = 0\n",
    "for path in os.listdir(dir_path):\n",
    "    if os.path.isfile(os.path.join(dir_path, path)):\n",
    "        count += 1\n",
    "print('Training Data count:', count)"
   ]
  },
  {
   "cell_type": "code",
   "execution_count": 1,
   "id": "6ce73ce9",
   "metadata": {
    "scrolled": true
   },
   "outputs": [
    {
     "name": "stdout",
     "output_type": "stream",
     "text": [
      "Testing Data count: 91\n"
     ]
    }
   ],
   "source": [
    "import os\n",
    "\n",
    "\n",
    "dir_path = r'multicoil_values/multicoil_test'\n",
    "count = 0\n",
    "for path in os.listdir(dir_path):\n",
    "    if os.path.isfile(os.path.join(dir_path, path)):\n",
    "        count += 1\n",
    "print('Testing Data count:', count)"
   ]
  },
  {
   "cell_type": "code",
   "execution_count": 11,
   "id": "701e93a7",
   "metadata": {},
   "outputs": [
    {
     "name": "stdout",
     "output_type": "stream",
     "text": [
      "Defaulting to user installation because normal site-packages is not writeable\n",
      "Requirement already satisfied: numpy==1.21.0 in ./.local/lib/python3.8/site-packages (from -r fastMRI/requirements.txt (line 1)) (1.21.0)\n",
      "Requirement already satisfied: scikit_image==0.16.2 in ./.local/lib/python3.8/site-packages (from -r fastMRI/requirements.txt (line 2)) (0.16.2)\n",
      "Requirement already satisfied: torchvision==0.10.0 in ./.local/lib/python3.8/site-packages (from -r fastMRI/requirements.txt (line 3)) (0.10.0)\n",
      "Requirement already satisfied: torch==1.9.0 in ./.local/lib/python3.8/site-packages (from -r fastMRI/requirements.txt (line 4)) (1.9.0)\n",
      "Requirement already satisfied: runstats==2.0.0 in ./.local/lib/python3.8/site-packages (from -r fastMRI/requirements.txt (line 5)) (2.0.0)\n",
      "Requirement already satisfied: pytorch_lightning==1.4.5 in ./.local/lib/python3.8/site-packages (from -r fastMRI/requirements.txt (line 6)) (1.4.5)\n",
      "Requirement already satisfied: h5py==2.10.0 in ./.local/lib/python3.8/site-packages (from -r fastMRI/requirements.txt (line 7)) (2.10.0)\n",
      "Requirement already satisfied: PyYAML==5.4.1 in ./.local/lib/python3.8/site-packages (from -r fastMRI/requirements.txt (line 8)) (5.4.1)\n",
      "Requirement already satisfied: torchmetrics==0.5.1 in ./.local/lib/python3.8/site-packages (from -r fastMRI/requirements.txt (line 9)) (0.5.1)\n",
      "Requirement already satisfied: click==8.0.4 in ./.local/lib/python3.8/site-packages (from -r fastMRI/requirements.txt (line 10)) (8.0.4)\n",
      "Requirement already satisfied: pandas==1.3.4 in ./.local/lib/python3.8/site-packages (from -r fastMRI/requirements.txt (line 11)) (1.3.4)\n",
      "Requirement already satisfied: wheel in /opt/conda/lib/python3.8/site-packages (from -r fastMRI/dev-requirements.txt (line 2)) (0.35.1)\n",
      "Requirement already satisfied: pytest==6.2.4 in ./.local/lib/python3.8/site-packages (from -r fastMRI/dev-requirements.txt (line 3)) (6.2.4)\n",
      "Requirement already satisfied: mypy==0.910 in ./.local/lib/python3.8/site-packages (from -r fastMRI/dev-requirements.txt (line 4)) (0.910)\n",
      "Requirement already satisfied: black==21.9b0 in ./.local/lib/python3.8/site-packages (from -r fastMRI/dev-requirements.txt (line 5)) (21.9b0)\n",
      "Requirement already satisfied: flake8==3.9.0 in ./.local/lib/python3.8/site-packages (from -r fastMRI/dev-requirements.txt (line 6)) (3.9.0)\n",
      "Requirement already satisfied: types-pyyaml==5.4.10 in ./.local/lib/python3.8/site-packages (from -r fastMRI/dev-requirements.txt (line 7)) (5.4.10)\n",
      "Requirement already satisfied: pandas-stubs==1.2.0.40 in ./.local/lib/python3.8/site-packages (from -r fastMRI/dev-requirements.txt (line 8)) (1.2.0.40)\n",
      "Requirement already satisfied: types-requests==2.27.6 in ./.local/lib/python3.8/site-packages (from -r fastMRI/dev-requirements.txt (line 9)) (2.27.6)\n",
      "Requirement already satisfied: types-urllib3==1.26.6 in ./.local/lib/python3.8/site-packages (from -r fastMRI/dev-requirements.txt (line 10)) (1.26.6)\n",
      "Requirement already satisfied: PyWavelets>=0.4.0 in /opt/conda/lib/python3.8/site-packages (from scikit_image==0.16.2->-r fastMRI/requirements.txt (line 2)) (1.1.1)\n",
      "Requirement already satisfied: matplotlib!=3.0.0,>=2.0.0 in ./.local/lib/python3.8/site-packages (from scikit_image==0.16.2->-r fastMRI/requirements.txt (line 2)) (3.5.2)\n",
      "Requirement already satisfied: imageio>=2.3.0 in /opt/conda/lib/python3.8/site-packages (from scikit_image==0.16.2->-r fastMRI/requirements.txt (line 2)) (2.9.0)\n",
      "Requirement already satisfied: scipy>=0.19.0 in ./.local/lib/python3.8/site-packages (from scikit_image==0.16.2->-r fastMRI/requirements.txt (line 2)) (1.8.0)\n",
      "Requirement already satisfied: pillow>=4.3.0 in /opt/conda/lib/python3.8/site-packages (from scikit_image==0.16.2->-r fastMRI/requirements.txt (line 2)) (8.4.0)\n",
      "Requirement already satisfied: networkx>=2.0 in /opt/conda/lib/python3.8/site-packages (from scikit_image==0.16.2->-r fastMRI/requirements.txt (line 2)) (2.6.3)\n",
      "Requirement already satisfied: typing-extensions in ./.local/lib/python3.8/site-packages (from torch==1.9.0->-r fastMRI/requirements.txt (line 4)) (4.2.0)\n",
      "Requirement already satisfied: future>=0.17.1 in /opt/conda/lib/python3.8/site-packages (from pytorch_lightning==1.4.5->-r fastMRI/requirements.txt (line 6)) (0.18.2)\n",
      "Requirement already satisfied: tqdm>=4.41.0 in ./.local/lib/python3.8/site-packages (from pytorch_lightning==1.4.5->-r fastMRI/requirements.txt (line 6)) (4.64.0)\n",
      "Requirement already satisfied: packaging>=17.0 in /opt/conda/lib/python3.8/site-packages (from pytorch_lightning==1.4.5->-r fastMRI/requirements.txt (line 6)) (20.9)\n",
      "Requirement already satisfied: tensorboard>=2.2.0 in /opt/conda/lib/python3.8/site-packages (from pytorch_lightning==1.4.5->-r fastMRI/requirements.txt (line 6)) (2.7.0)\n",
      "Requirement already satisfied: pyDeprecate==0.3.1 in ./.local/lib/python3.8/site-packages (from pytorch_lightning==1.4.5->-r fastMRI/requirements.txt (line 6)) (0.3.1)\n",
      "Requirement already satisfied: fsspec[http]!=2021.06.0,>=2021.05.0 in /opt/conda/lib/python3.8/site-packages (from pytorch_lightning==1.4.5->-r fastMRI/requirements.txt (line 6)) (2021.11.1)\n",
      "Requirement already satisfied: six in /opt/conda/lib/python3.8/site-packages (from h5py==2.10.0->-r fastMRI/requirements.txt (line 7)) (1.15.0)\n",
      "Requirement already satisfied: pytz>=2017.3 in /opt/conda/lib/python3.8/site-packages (from pandas==1.3.4->-r fastMRI/requirements.txt (line 11)) (2021.1)\n",
      "Requirement already satisfied: python-dateutil>=2.7.3 in /opt/conda/lib/python3.8/site-packages (from pandas==1.3.4->-r fastMRI/requirements.txt (line 11)) (2.8.1)\n",
      "Requirement already satisfied: attrs>=19.2.0 in /opt/conda/lib/python3.8/site-packages (from pytest==6.2.4->-r fastMRI/dev-requirements.txt (line 3)) (20.3.0)\n",
      "Requirement already satisfied: toml in /opt/conda/lib/python3.8/site-packages (from pytest==6.2.4->-r fastMRI/dev-requirements.txt (line 3)) (0.10.2)\n",
      "Requirement already satisfied: iniconfig in /opt/conda/lib/python3.8/site-packages (from pytest==6.2.4->-r fastMRI/dev-requirements.txt (line 3)) (1.1.1)\n",
      "Requirement already satisfied: pluggy<1.0.0a1,>=0.12 in ./.local/lib/python3.8/site-packages (from pytest==6.2.4->-r fastMRI/dev-requirements.txt (line 3)) (0.13.1)\n",
      "Requirement already satisfied: py>=1.8.2 in /opt/conda/lib/python3.8/site-packages (from pytest==6.2.4->-r fastMRI/dev-requirements.txt (line 3)) (1.10.0)\n",
      "Requirement already satisfied: mypy-extensions<0.5.0,>=0.4.3 in ./.local/lib/python3.8/site-packages (from mypy==0.910->-r fastMRI/dev-requirements.txt (line 4)) (0.4.3)\n",
      "Requirement already satisfied: platformdirs>=2 in ./.local/lib/python3.8/site-packages (from black==21.9b0->-r fastMRI/dev-requirements.txt (line 5)) (2.5.2)\n",
      "Requirement already satisfied: regex>=2020.1.8 in /opt/conda/lib/python3.8/site-packages (from black==21.9b0->-r fastMRI/dev-requirements.txt (line 5)) (2021.4.4)\n",
      "Requirement already satisfied: pathspec<1,>=0.9.0 in ./.local/lib/python3.8/site-packages (from black==21.9b0->-r fastMRI/dev-requirements.txt (line 5)) (0.9.0)\n",
      "Requirement already satisfied: tomli<2.0.0,>=0.2.6 in ./.local/lib/python3.8/site-packages (from black==21.9b0->-r fastMRI/dev-requirements.txt (line 5)) (1.2.3)\n",
      "Requirement already satisfied: pycodestyle<2.8.0,>=2.7.0 in ./.local/lib/python3.8/site-packages (from flake8==3.9.0->-r fastMRI/dev-requirements.txt (line 6)) (2.7.0)\n",
      "Requirement already satisfied: pyflakes<2.4.0,>=2.3.0 in ./.local/lib/python3.8/site-packages (from flake8==3.9.0->-r fastMRI/dev-requirements.txt (line 6)) (2.3.1)\n",
      "Requirement already satisfied: mccabe<0.7.0,>=0.6.0 in ./.local/lib/python3.8/site-packages (from flake8==3.9.0->-r fastMRI/dev-requirements.txt (line 6)) (0.6.1)\n",
      "Requirement already satisfied: cycler>=0.10 in /opt/conda/lib/python3.8/site-packages (from matplotlib!=3.0.0,>=2.0.0->scikit_image==0.16.2->-r fastMRI/requirements.txt (line 2)) (0.10.0)\n",
      "Requirement already satisfied: fonttools>=4.22.0 in ./.local/lib/python3.8/site-packages (from matplotlib!=3.0.0,>=2.0.0->scikit_image==0.16.2->-r fastMRI/requirements.txt (line 2)) (4.33.3)\n",
      "Requirement already satisfied: pyparsing>=2.2.1 in /opt/conda/lib/python3.8/site-packages (from matplotlib!=3.0.0,>=2.0.0->scikit_image==0.16.2->-r fastMRI/requirements.txt (line 2)) (2.4.7)\n",
      "Requirement already satisfied: kiwisolver>=1.0.1 in /opt/conda/lib/python3.8/site-packages (from matplotlib!=3.0.0,>=2.0.0->scikit_image==0.16.2->-r fastMRI/requirements.txt (line 2)) (1.3.1)\n",
      "Requirement already satisfied: setuptools>=41.0.0 in /opt/conda/lib/python3.8/site-packages (from tensorboard>=2.2.0->pytorch_lightning==1.4.5->-r fastMRI/requirements.txt (line 6)) (50.3.1.post20201107)\n",
      "Requirement already satisfied: werkzeug>=0.11.15 in /opt/conda/lib/python3.8/site-packages (from tensorboard>=2.2.0->pytorch_lightning==1.4.5->-r fastMRI/requirements.txt (line 6)) (1.0.1)\n",
      "Requirement already satisfied: markdown>=2.6.8 in /opt/conda/lib/python3.8/site-packages (from tensorboard>=2.2.0->pytorch_lightning==1.4.5->-r fastMRI/requirements.txt (line 6)) (3.3.4)\n",
      "Requirement already satisfied: absl-py>=0.4 in /opt/conda/lib/python3.8/site-packages (from tensorboard>=2.2.0->pytorch_lightning==1.4.5->-r fastMRI/requirements.txt (line 6)) (0.12.0)\n"
     ]
    },
    {
     "name": "stdout",
     "output_type": "stream",
     "text": [
      "Requirement already satisfied: google-auth-oauthlib<0.5,>=0.4.1 in /opt/conda/lib/python3.8/site-packages (from tensorboard>=2.2.0->pytorch_lightning==1.4.5->-r fastMRI/requirements.txt (line 6)) (0.4.6)\n",
      "Requirement already satisfied: tensorboard-plugin-wit>=1.6.0 in /opt/conda/lib/python3.8/site-packages (from tensorboard>=2.2.0->pytorch_lightning==1.4.5->-r fastMRI/requirements.txt (line 6)) (1.8.0)\n",
      "Requirement already satisfied: requests<3,>=2.21.0 in /opt/conda/lib/python3.8/site-packages (from tensorboard>=2.2.0->pytorch_lightning==1.4.5->-r fastMRI/requirements.txt (line 6)) (2.24.0)\n",
      "Requirement already satisfied: tensorboard-data-server<0.7.0,>=0.6.0 in /opt/conda/lib/python3.8/site-packages (from tensorboard>=2.2.0->pytorch_lightning==1.4.5->-r fastMRI/requirements.txt (line 6)) (0.6.1)\n",
      "Requirement already satisfied: protobuf>=3.6.0 in /opt/conda/lib/python3.8/site-packages (from tensorboard>=2.2.0->pytorch_lightning==1.4.5->-r fastMRI/requirements.txt (line 6)) (3.15.8)\n",
      "Requirement already satisfied: google-auth<3,>=1.6.3 in /opt/conda/lib/python3.8/site-packages (from tensorboard>=2.2.0->pytorch_lightning==1.4.5->-r fastMRI/requirements.txt (line 6)) (2.3.3)\n",
      "Requirement already satisfied: grpcio>=1.24.3 in /opt/conda/lib/python3.8/site-packages (from tensorboard>=2.2.0->pytorch_lightning==1.4.5->-r fastMRI/requirements.txt (line 6)) (1.37.0)\n",
      "Requirement already satisfied: aiohttp; extra == \"http\" in ./.local/lib/python3.8/site-packages (from fsspec[http]!=2021.06.0,>=2021.05.0->pytorch_lightning==1.4.5->-r fastMRI/requirements.txt (line 6)) (3.8.1)\n",
      "Requirement already satisfied: requests-oauthlib>=0.7.0 in /opt/conda/lib/python3.8/site-packages (from google-auth-oauthlib<0.5,>=0.4.1->tensorboard>=2.2.0->pytorch_lightning==1.4.5->-r fastMRI/requirements.txt (line 6)) (1.3.0)\n",
      "Requirement already satisfied: urllib3!=1.25.0,!=1.25.1,<1.26,>=1.21.1 in /opt/conda/lib/python3.8/site-packages (from requests<3,>=2.21.0->tensorboard>=2.2.0->pytorch_lightning==1.4.5->-r fastMRI/requirements.txt (line 6)) (1.25.11)\n",
      "Requirement already satisfied: idna<3,>=2.5 in /opt/conda/lib/python3.8/site-packages (from requests<3,>=2.21.0->tensorboard>=2.2.0->pytorch_lightning==1.4.5->-r fastMRI/requirements.txt (line 6)) (2.10)\n",
      "Requirement already satisfied: certifi>=2017.4.17 in /opt/conda/lib/python3.8/site-packages (from requests<3,>=2.21.0->tensorboard>=2.2.0->pytorch_lightning==1.4.5->-r fastMRI/requirements.txt (line 6)) (2020.12.5)\n",
      "Requirement already satisfied: chardet<4,>=3.0.2 in /opt/conda/lib/python3.8/site-packages (from requests<3,>=2.21.0->tensorboard>=2.2.0->pytorch_lightning==1.4.5->-r fastMRI/requirements.txt (line 6)) (3.0.4)\n",
      "Requirement already satisfied: cachetools<5.0,>=2.0.0 in /opt/conda/lib/python3.8/site-packages (from google-auth<3,>=1.6.3->tensorboard>=2.2.0->pytorch_lightning==1.4.5->-r fastMRI/requirements.txt (line 6)) (4.2.4)\n",
      "Requirement already satisfied: rsa<5,>=3.1.4; python_version >= \"3.6\" in /opt/conda/lib/python3.8/site-packages (from google-auth<3,>=1.6.3->tensorboard>=2.2.0->pytorch_lightning==1.4.5->-r fastMRI/requirements.txt (line 6)) (4.8)\n",
      "Requirement already satisfied: pyasn1-modules>=0.2.1 in /opt/conda/lib/python3.8/site-packages (from google-auth<3,>=1.6.3->tensorboard>=2.2.0->pytorch_lightning==1.4.5->-r fastMRI/requirements.txt (line 6)) (0.2.8)\n",
      "Requirement already satisfied: frozenlist>=1.1.1 in ./.local/lib/python3.8/site-packages (from aiohttp; extra == \"http\"->fsspec[http]!=2021.06.0,>=2021.05.0->pytorch_lightning==1.4.5->-r fastMRI/requirements.txt (line 6)) (1.3.0)\n",
      "Requirement already satisfied: charset-normalizer<3.0,>=2.0 in /opt/conda/lib/python3.8/site-packages (from aiohttp; extra == \"http\"->fsspec[http]!=2021.06.0,>=2021.05.0->pytorch_lightning==1.4.5->-r fastMRI/requirements.txt (line 6)) (2.0.9)\n",
      "Requirement already satisfied: async-timeout<5.0,>=4.0.0a3 in ./.local/lib/python3.8/site-packages (from aiohttp; extra == \"http\"->fsspec[http]!=2021.06.0,>=2021.05.0->pytorch_lightning==1.4.5->-r fastMRI/requirements.txt (line 6)) (4.0.2)\n",
      "Requirement already satisfied: yarl<2.0,>=1.0 in ./.local/lib/python3.8/site-packages (from aiohttp; extra == \"http\"->fsspec[http]!=2021.06.0,>=2021.05.0->pytorch_lightning==1.4.5->-r fastMRI/requirements.txt (line 6)) (1.7.2)\n",
      "Requirement already satisfied: aiosignal>=1.1.2 in ./.local/lib/python3.8/site-packages (from aiohttp; extra == \"http\"->fsspec[http]!=2021.06.0,>=2021.05.0->pytorch_lightning==1.4.5->-r fastMRI/requirements.txt (line 6)) (1.2.0)\n",
      "Requirement already satisfied: multidict<7.0,>=4.5 in ./.local/lib/python3.8/site-packages (from aiohttp; extra == \"http\"->fsspec[http]!=2021.06.0,>=2021.05.0->pytorch_lightning==1.4.5->-r fastMRI/requirements.txt (line 6)) (6.0.2)\n",
      "Requirement already satisfied: oauthlib>=3.0.0 in /opt/conda/lib/python3.8/site-packages (from requests-oauthlib>=0.7.0->google-auth-oauthlib<0.5,>=0.4.1->tensorboard>=2.2.0->pytorch_lightning==1.4.5->-r fastMRI/requirements.txt (line 6)) (3.1.1)\n",
      "Requirement already satisfied: pyasn1>=0.1.3 in /opt/conda/lib/python3.8/site-packages (from rsa<5,>=3.1.4; python_version >= \"3.6\"->google-auth<3,>=1.6.3->tensorboard>=2.2.0->pytorch_lightning==1.4.5->-r fastMRI/requirements.txt (line 6)) (0.4.8)\n",
      "Defaulting to user installation because normal site-packages is not writeable\n",
      "Requirement already satisfied: torchtext==0.6.0 in ./.local/lib/python3.8/site-packages (0.6.0)\n",
      "Requirement already satisfied: six in /opt/conda/lib/python3.8/site-packages (from torchtext==0.6.0) (1.15.0)\n",
      "Requirement already satisfied: requests in /opt/conda/lib/python3.8/site-packages (from torchtext==0.6.0) (2.24.0)\n",
      "Requirement already satisfied: numpy in ./.local/lib/python3.8/site-packages (from torchtext==0.6.0) (1.21.0)\n",
      "Requirement already satisfied: torch in ./.local/lib/python3.8/site-packages (from torchtext==0.6.0) (1.9.0)\n",
      "Requirement already satisfied: sentencepiece in ./.local/lib/python3.8/site-packages (from torchtext==0.6.0) (0.1.96)\n",
      "Requirement already satisfied: tqdm in ./.local/lib/python3.8/site-packages (from torchtext==0.6.0) (4.64.0)\n",
      "Requirement already satisfied: certifi>=2017.4.17 in /opt/conda/lib/python3.8/site-packages (from requests->torchtext==0.6.0) (2020.12.5)\n",
      "Requirement already satisfied: urllib3!=1.25.0,!=1.25.1,<1.26,>=1.21.1 in /opt/conda/lib/python3.8/site-packages (from requests->torchtext==0.6.0) (1.25.11)\n",
      "Requirement already satisfied: idna<3,>=2.5 in /opt/conda/lib/python3.8/site-packages (from requests->torchtext==0.6.0) (2.10)\n",
      "Requirement already satisfied: chardet<4,>=3.0.2 in /opt/conda/lib/python3.8/site-packages (from requests->torchtext==0.6.0) (3.0.4)\n",
      "Requirement already satisfied: typing-extensions in ./.local/lib/python3.8/site-packages (from torch->torchtext==0.6.0) (4.2.0)\n"
     ]
    }
   ],
   "source": [
    "!pip install -r fastMRI/dev-requirements.txt\n",
    "!pip install torchtext==0.6.0"
   ]
  },
  {
   "cell_type": "code",
   "execution_count": 4,
   "id": "7c829882",
   "metadata": {},
   "outputs": [],
   "source": [
    "# to delete checkpoints \n",
    "#!rm -rf unet/unet_demo/checkpoints"
   ]
  },
  {
   "cell_type": "code",
   "execution_count": 5,
   "id": "4090717f",
   "metadata": {},
   "outputs": [],
   "source": [
    "# to delete dataset cache if dataset has changed\n",
    "#!rm -rf dataset_cache.pkl"
   ]
  },
  {
   "cell_type": "code",
   "execution_count": 4,
   "id": "a240e58f",
   "metadata": {
    "scrolled": true
   },
   "outputs": [
    {
     "name": "stdout",
     "output_type": "stream",
     "text": [
      "/home/colellav/.local/lib/python3.8/site-packages/pytorch_lightning/callbacks/model_checkpoint.py:446: UserWarning: Checkpoint directory unet/unet_demo/checkpoints exists and is not empty.\n",
      "  rank_zero_warn(f\"Checkpoint directory {dirpath} exists and is not empty.\")\n",
      "Global seed set to 42\n",
      "Global seed set to 42\n",
      "/home/colellav/.local/lib/python3.8/site-packages/deprecate/deprecation.py:115: LightningDeprecationWarning: The `Metric` was deprecated since v1.3.0 in favor of `torchmetrics.metric.Metric`. It will be removed in v1.5.0.\n",
      "  stream(template_mgs % msg_args)\n",
      "GPU available: True, used: True\n",
      "GPU available: True, used: True\n",
      "TPU available: False, using: 0 TPU cores\n",
      "TPU available: False, using: 0 TPU cores\n",
      "IPU available: False, using: 0 IPUs\n",
      "IPU available: False, using: 0 IPUs\n",
      "Restoring states from the checkpoint file at unet/unet_demo/checkpoints/epoch=49-step=522699.ckpt\n",
      "Restoring states from the checkpoint file at unet/unet_demo/checkpoints/epoch=49-step=522699.ckpt\n",
      "Global seed set to 42\n",
      "Global seed set to 42\n",
      "initializing ddp: GLOBAL_RANK: 0, MEMBER: 1/1\n",
      "initializing ddp: GLOBAL_RANK: 0, MEMBER: 1/1\n",
      "----------------------------------------------------------------------------------------------------\n",
      "distributed_backend=nccl\n",
      "All DDP processes registered. Starting ddp with 1 processes\n",
      "----------------------------------------------------------------------------------------------------\n",
      "\n",
      "----------------------------------------------------------------------------------------------------\n",
      "distributed_backend=nccl\n",
      "All DDP processes registered. Starting ddp with 1 processes\n",
      "----------------------------------------------------------------------------------------------------\n",
      "\n",
      "LOCAL_RANK: 0 - CUDA_VISIBLE_DEVICES: [0]\n",
      "LOCAL_RANK: 0 - CUDA_VISIBLE_DEVICES: [0]\n",
      "Restored all states from the checkpoint file at unet/unet_demo/checkpoints/epoch=49-step=522699.ckpt\n",
      "Restored all states from the checkpoint file at unet/unet_demo/checkpoints/epoch=49-step=522699.ckpt\n",
      "\n",
      "  | Name             | Type                 | Params\n",
      "----------------------------------------------------------\n",
      "0 | NMSE             | DistributedMetricSum | 0     \n",
      "1 | SSIM             | DistributedMetricSum | 0     \n",
      "2 | PSNR             | DistributedMetricSum | 0     \n",
      "3 | ValLoss          | DistributedMetricSum | 0     \n",
      "4 | TotExamples      | DistributedMetricSum | 0     \n",
      "5 | TotSliceExamples | DistributedMetricSum | 0     \n",
      "6 | unet             | Unet                 | 7.8 M \n",
      "----------------------------------------------------------\n",
      "7.8 M     Trainable params\n",
      "0         Non-trainable params\n",
      "7.8 M     Total params\n",
      "31.024    Total estimated model params size (MB)\n",
      "\n",
      "  | Name             | Type                 | Params\n",
      "----------------------------------------------------------\n",
      "0 | NMSE             | DistributedMetricSum | 0     \n",
      "1 | SSIM             | DistributedMetricSum | 0     \n",
      "2 | PSNR             | DistributedMetricSum | 0     \n",
      "3 | ValLoss          | DistributedMetricSum | 0     \n",
      "4 | TotExamples      | DistributedMetricSum | 0     \n",
      "5 | TotSliceExamples | DistributedMetricSum | 0     \n",
      "6 | unet             | Unet                 | 7.8 M \n",
      "----------------------------------------------------------\n",
      "7.8 M     Trainable params\n",
      "0         Non-trainable params\n",
      "7.8 M     Total params\n",
      "31.024    Total estimated model params size (MB)\n",
      "Global seed set to 42                                                           \n",
      "Global seed set to 42\n"
     ]
    }
   ],
   "source": [
    "############### TRAIN ##################\n",
    "\n",
    "\n",
    "!rm -rf multicoil_values/multicoil_train/.ipynb_checkpoints\n",
    "!rm -rf multicoil_values/multicoil_val/.ipynb_checkpoints\n",
    "\n",
    "!python unet.py --challenge multicoil --data_path multicoil_values --mask_type equispaced"
   ]
  },
  {
   "cell_type": "code",
   "execution_count": 5,
   "id": "b27200d1",
   "metadata": {},
   "outputs": [
    {
     "name": "stdout",
     "output_type": "stream",
     "text": [
      "/home/colellav/.local/lib/python3.8/site-packages/pytorch_lightning/callbacks/model_checkpoint.py:446: UserWarning: Checkpoint directory unet/unet_demo/checkpoints exists and is not empty.\n",
      "  rank_zero_warn(f\"Checkpoint directory {dirpath} exists and is not empty.\")\n",
      "Global seed set to 42\n",
      "/home/colellav/.local/lib/python3.8/site-packages/deprecate/deprecation.py:115: LightningDeprecationWarning: The `Metric` was deprecated since v1.3.0 in favor of `torchmetrics.metric.Metric`. It will be removed in v1.5.0.\n",
      "  stream(template_mgs % msg_args)\n",
      "GPU available: True, used: True\n",
      "TPU available: False, using: 0 TPU cores\n",
      "IPU available: False, using: 0 IPUs\n",
      "Global seed set to 42\n",
      "initializing ddp: GLOBAL_RANK: 0, MEMBER: 1/1\n",
      "----------------------------------------------------------------------------------------------------\n",
      "distributed_backend=nccl\n",
      "All DDP processes registered. Starting ddp with 1 processes\n",
      "----------------------------------------------------------------------------------------------------\n",
      "\n",
      "LOCAL_RANK: 0 - CUDA_VISIBLE_DEVICES: [0]\n",
      "Saving reconstructions to unet/unet_demo/reconstructions                        \n",
      "Testing: 100%|██████████████████████████████| 1602/1602 [01:05<00:00, 22.62it/s]--------------------------------------------------------------------------------\n",
      "DATALOADER:0 TEST RESULTS\n",
      "{}\n",
      "--------------------------------------------------------------------------------\n",
      "Testing: 100%|██████████████████████████████| 1602/1602 [01:06<00:00, 24.13it/s]\n"
     ]
    }
   ],
   "source": [
    "################## TEST ##################\n",
    "!rm -rf dataset_cache.pkl\n",
    "!rm -rf multicoil_values/multicoil_test/.ipynb_checkpoints\n",
    "!rm -rf multicoil_values/multicoil_val/.ipynb_checkpoints\n",
    "!python unet.py --challenge multicoil --data_path multicoil_values --mask_type equispaced --mode test"
   ]
  },
  {
   "cell_type": "code",
   "execution_count": 6,
   "id": "569c3611",
   "metadata": {
    "scrolled": true
   },
   "outputs": [
    {
     "name": "stdout",
     "output_type": "stream",
     "text": [
      "MSE = 9.362e-09 +/- 1.614e-08 NMSE = 0.6656 +/- 0.2638 PSNR = 18.44 +/- 4.379 SSIM = 0.3984 +/- 0.1673\r\n"
     ]
    }
   ],
   "source": [
    "!rm -rf multicoil_values/multicoil_test/.ipynb_checkpoints\n",
    "!rm -rf unet/unet_demo/reconstructions/.ipynb_checkpoints\n",
    "!rm -rf dataset_cache.pkl\n",
    "!python fastMRI/fastmri/evaluate.py --target-path multicoil_values/multicoil_test --predictions-path unet/unet_demo/reconstructions --challenge multicoil"
   ]
  },
  {
   "cell_type": "code",
   "execution_count": null,
   "id": "c41c3b73",
   "metadata": {},
   "outputs": [],
   "source": []
  }
 ],
 "metadata": {
  "kernelspec": {
   "display_name": "Python 3 (ipykernel)",
   "language": "python",
   "name": "python3"
  },
  "language_info": {
   "codemirror_mode": {
    "name": "ipython",
    "version": 3
   },
   "file_extension": ".py",
   "mimetype": "text/x-python",
   "name": "python",
   "nbconvert_exporter": "python",
   "pygments_lexer": "ipython3",
   "version": "3.8.10"
  }
 },
 "nbformat": 4,
 "nbformat_minor": 5
}
