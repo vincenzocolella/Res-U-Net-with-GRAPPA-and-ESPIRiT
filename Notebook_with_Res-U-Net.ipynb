{
 "cells": [
  {
   "cell_type": "code",
   "execution_count": null,
   "id": "701e93a7",
   "metadata": {
    "scrolled": false
   },
   "outputs": [],
   "source": [
    "!pip install --force-reinstall -r fastMRI/dev-requirements.txt\n",
    "!pip install torchtext==0.6.0"
   ]
  },
  {
   "cell_type": "code",
   "execution_count": null,
   "id": "7c829882",
   "metadata": {},
   "outputs": [],
   "source": [
    "# to delete checkpoints \n",
    "#!rm -rf unet/unet_demo/checkpoints"
   ]
  },
  {
   "cell_type": "code",
   "execution_count": 16,
   "id": "4090717f",
   "metadata": {
    "scrolled": false
   },
   "outputs": [],
   "source": [
    "# to delete dataset cache if dataset has changed\n",
    "!rm -rf dataset_cache.pkl\n"
   ]
  },
  {
   "cell_type": "code",
   "execution_count": null,
   "id": "a1f46dc6",
   "metadata": {
    "scrolled": true
   },
   "outputs": [],
   "source": [
    "                               ############### TRAIN ##################\n",
    "# pytorch-lightning 1.4.5\n",
    "#!pip install setuptools==59.5.0\n",
    "#!pip install tensorboard\n",
    "#!pip install pytorch-lightning==1.4.5\n",
    "\n",
    "\n",
    "\n",
    "# \n",
    "# \n",
    "# NEL VALIDATION DIREI DI NON SALVARE I FILES IN CACHE PER ORA. VEDIAMO !!!! \n",
    "#\n",
    "# pensa a abbassare lr a 0.0001 se accuracy non migliora nel tempo\n",
    "\n",
    "!rm -rf dataset_cache.pkl\n",
    "!rm -rf multicoil_values/multicoil_train/.ipynb_checkpoints\n",
    "!rm -rf multicoil_values/multicoil_test/.ipynb_checkpoints\n",
    "!rm -rf multicoil_values/multicoil_val/.ipynb_checkpoints\n",
    "!python unet_GRAPPA.py --challenge multicoil --data_path multicoil_values --lr 0.0001 --accelerations 4 --mask_type equispaced --num_log_images 100 --max_epochs 75"
   ]
  },
  {
   "cell_type": "code",
   "execution_count": null,
   "id": "dd3b820e",
   "metadata": {},
   "outputs": [],
   "source": [
    "                          ############### TRAIN WITH 8x TRACK ##################\n",
    "# pytorch-lightning 1.4.5\n",
    "#!pip install setuptools==59.5.0\n",
    "#!pip install tensorboard\n",
    "#!pip install pytorch-lightning==1.4.5\n",
    "\n",
    "# \n",
    "# \n",
    "# NEL VALIDATION DIREI DI NON SALVARE I FILES IN CACHE PER ORA. VEDIAMO !!!! \n",
    "#\n",
    "#\n",
    "\n",
    "!rm -rf dataset_cache.pkl\n",
    "!rm -rf multicoil_values/multicoil_train/.ipynb_checkpoints\n",
    "!rm -rf multicoil_values/multicoil_test/.ipynb_checkpoints\n",
    "!rm -rf multicoil_values/multicoil_val/.ipynb_checkpoints\n",
    "!python unet_GRAPPA.py --challenge multicoil --data_path multicoil_values --weight_decay 0.00001 --drop_prob 0.5 --accelerations 8 --auto_lr_find --mask_type equispaced --num_log_images 100"
   ]
  },
  {
   "cell_type": "code",
   "execution_count": 6,
   "id": "b27200d1",
   "metadata": {
    "scrolled": true
   },
   "outputs": [],
   "source": [
    "                          ################## TEST ##################\n",
    "#!rm -rf dataset_cache.pkl\n",
    "#!rm -rf multicoil_values/multicoil_test/.ipynb_checkpoints\n",
    "#!rm -rf multicoil_values/multicoil_val/.ipynb_checkpoints\n",
    "#queste due righe vanno modificate in base a cosa stai testando\n",
    "#!rm -rf unet/resnet_grappa_demo/reconstructions\n",
    "#!rm -rf unet/resnet_demo/reconstructions\n",
    "#!rm -rf unet/unet_demo/reconstructions\n",
    "#!python unet_GRAPPA.py --challenge multicoil --data_path multicoil_values --mask_type equispaced --mode test"
   ]
  },
  {
   "cell_type": "code",
   "execution_count": 11,
   "id": "569c3611",
   "metadata": {
    "scrolled": false
   },
   "outputs": [],
   "source": [
    "#!rm -rf dataset_cache.pkl\n",
    "#!rm -rf multicoil_values/multicoil_test/.ipynb_checkpoints\n",
    "#!rm -rf unet/resnet_demo/reconstructions/.ipynb_checkpoints\n",
    "# modifica in base a cosa stai testando\n",
    "#!python fastMRI/fastmri/evaluate.py --target-path multicoil_values/multicoil_test --predictions-path unet/resnet_grappa_demo/reconstructions --challenge multicoil"
   ]
  },
  {
   "cell_type": "code",
   "execution_count": 3,
   "id": "caa51bc3",
   "metadata": {},
   "outputs": [
    {
     "name": "stdout",
     "output_type": "stream",
     "text": [
      "Downloading state_dict: 100%|█████████████| 1.99G/1.99G [01:35<00:00, 20.9MiB/s]\n",
      "Running inference: 100%|██████████████████████| 910/910 [02:02<00:00,  7.43it/s]\n",
      "Elapsed time for 910 slices: 123.21485631167889\n"
     ]
    }
   ],
   "source": [
    "#!rm -rf unet/unet_demo/reconstructions\n",
    "#!python run_pretrained_unet_inference.py --data_path multicoil_values/multicoil_test --output_path unet/resnet_grappa_demo --challenge unet_brain_mc"
   ]
  },
  {
   "cell_type": "code",
   "execution_count": 15,
   "id": "fdd7d556",
   "metadata": {},
   "outputs": [
    {
     "name": "stdout",
     "output_type": "stream",
     "text": [
      "Traceback (most recent call last):\r\n",
      "  File \"fastMRI/fastmri/evaluate.py\", line 169, in <module>\r\n",
      "    metrics = evaluate(args, recons_key)\r\n",
      "  File \"fastMRI/fastmri/evaluate.py\", line 106, in evaluate\r\n",
      "    with h5py.File(tgt_file, \"r\") as target, h5py.File(\r\n",
      "  File \"/home/colellav/.local/lib/python3.8/site-packages/h5py/_hl/files.py\", line 406, in __init__\r\n",
      "    fid = make_fid(name, mode, userblock_size,\r\n",
      "  File \"/home/colellav/.local/lib/python3.8/site-packages/h5py/_hl/files.py\", line 173, in make_fid\r\n",
      "    fid = h5f.open(name, flags, fapl=fapl)\r\n",
      "  File \"h5py/_objects.pyx\", line 54, in h5py._objects.with_phil.wrapper\r\n",
      "  File \"h5py/_objects.pyx\", line 55, in h5py._objects.with_phil.wrapper\r\n",
      "  File \"h5py/h5f.pyx\", line 88, in h5py.h5f.open\r\n",
      "OSError: Unable to open file (unable to open file: name = 'unet/unet_demo/reconstructions/reconstructions/file_brain_AXT2_200_6002219.h5', errno = 2, error message = 'No such file or directory', flags = 0, o_flags = 0)\r\n"
     ]
    }
   ],
   "source": [
    "#!rm -rf dataset_cache.pkl\n",
    "#!rm -rf multicoil_values/multicoil_test/.ipynb_checkpoints\n",
    "#!rm -rf unet/resnet_demo/reconstructions/.ipynb_checkpoints\n",
    "# modifica in base a cosa stai testando\n",
    "#!python fastMRI/fastmri/evaluate.py --target-path multicoil_values/multicoil_test --predictions-path unet/unet_demo/reconstructions/reconstructions --challenge multicoil"
   ]
  },
  {
   "cell_type": "code",
   "execution_count": 1,
   "id": "9ea43ae7",
   "metadata": {},
   "outputs": [
    {
     "name": "stdout",
     "output_type": "stream",
     "text": [
      "The folder multicoil_values/multicoil_train contains 4613 files.\n"
     ]
    }
   ],
   "source": [
    "import os\n",
    "\n",
    "folder_path = 'multicoil_values/multicoil_train'\n",
    "files = os.listdir(folder_path)\n",
    "num_files = len(files)\n",
    "\n",
    "print(f'The folder {folder_path} contains {num_files} files.')"
   ]
  },
  {
   "cell_type": "code",
   "execution_count": 2,
   "id": "9c7e7b02",
   "metadata": {},
   "outputs": [
    {
     "name": "stdout",
     "output_type": "stream",
     "text": [
      "The folder multicoil_values/multicoil_val contains 1234 files.\n"
     ]
    }
   ],
   "source": [
    "import os\n",
    "\n",
    "folder_path = 'multicoil_values/multicoil_val'\n",
    "files = os.listdir(folder_path)\n",
    "num_files = len(files)\n",
    "\n",
    "print(f'The folder {folder_path} contains {num_files} files.')"
   ]
  },
  {
   "cell_type": "code",
   "execution_count": null,
   "id": "4b1c4563",
   "metadata": {},
   "outputs": [],
   "source": []
  }
 ],
 "metadata": {
  "kernelspec": {
   "display_name": "Python 3 (ipykernel)",
   "language": "python",
   "name": "python3"
  },
  "language_info": {
   "codemirror_mode": {
    "name": "ipython",
    "version": 3
   },
   "file_extension": ".py",
   "mimetype": "text/x-python",
   "name": "python",
   "nbconvert_exporter": "python",
   "pygments_lexer": "ipython3",
   "version": "3.8.10"
  }
 },
 "nbformat": 4,
 "nbformat_minor": 5
}
